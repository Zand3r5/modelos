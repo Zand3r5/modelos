{
  "cells": [
    {
      "cell_type": "markdown",
      "metadata": {
        "colab_type": "text",
        "id": "view-in-github"
      },
      "source": [
        "<a href=\"https://colab.research.google.com/github/Zand3r5/Objetos2/blob/main/01.ipynb\" target=\"_parent\"><img src=\"https://colab.research.google.com/assets/colab-badge.svg\" alt=\"Open In Colab\"/></a>"
      ]
    },
    {
      "cell_type": "code",
      "execution_count": 1,
      "metadata": {
        "id": "RI0QfwPu1rVu"
      },
      "outputs": [
        {
          "name": "stdout",
          "output_type": "stream",
          "text": [
            "Python: C:\\Users\\andyl\\AppData\\Local\\Microsoft\\WindowsApps\\PythonSoftwareFoundation.Python.3.13_qbz5n2kfra8p0\\python.exe\n",
            "ipykernel: C:\\Users\\andyl\\AppData\\Local\\Packages\\PythonSoftwareFoundation.Python.3.13_qbz5n2kfra8p0\\LocalCache\\local-packages\\Python313\\site-packages\\ipykernel\\__init__.py\n",
            "Version: 3.13.7\n"
          ]
        }
      ],
      "source": [
        "import sys, ipykernel, platform\n",
        "print(\"Python:\", sys.executable)\n",
        "print(\"ipykernel:\", ipykernel.__file__)\n",
        "print(\"Version:\", platform.python_version())"
      ]
    },
    {
      "cell_type": "code",
      "execution_count": null,
      "metadata": {},
      "outputs": [
        {
          "name": "stderr",
          "output_type": "stream",
          "text": [
            "'which' is not recognized as an internal or external command,\n",
            "operable program or batch file.\n"
          ]
        },
        {
          "name": "stdout",
          "output_type": "stream",
          "text": [
            "Defaulting to user installation because normal site-packages is not writeable\n",
            "Requirement already satisfied: pandas in c:\\users\\andyl\\appdata\\local\\packages\\pythonsoftwarefoundation.python.3.13_qbz5n2kfra8p0\\localcache\\local-packages\\python313\\site-packages (2.3.0)\n",
            "Requirement already satisfied: numpy>=1.26.0 in c:\\users\\andyl\\appdata\\local\\packages\\pythonsoftwarefoundation.python.3.13_qbz5n2kfra8p0\\localcache\\local-packages\\python313\\site-packages (from pandas) (2.3.0)\n",
            "Requirement already satisfied: python-dateutil>=2.8.2 in c:\\users\\andyl\\appdata\\local\\packages\\pythonsoftwarefoundation.python.3.13_qbz5n2kfra8p0\\localcache\\local-packages\\python313\\site-packages (from pandas) (2.9.0.post0)\n",
            "Requirement already satisfied: pytz>=2020.1 in c:\\users\\andyl\\appdata\\local\\packages\\pythonsoftwarefoundation.python.3.13_qbz5n2kfra8p0\\localcache\\local-packages\\python313\\site-packages (from pandas) (2025.2)\n",
            "Requirement already satisfied: tzdata>=2022.7 in c:\\users\\andyl\\appdata\\local\\packages\\pythonsoftwarefoundation.python.3.13_qbz5n2kfra8p0\\localcache\\local-packages\\python313\\site-packages (from pandas) (2025.2)\n",
            "Requirement already satisfied: six>=1.5 in c:\\users\\andyl\\appdata\\local\\packages\\pythonsoftwarefoundation.python.3.13_qbz5n2kfra8p0\\localcache\\local-packages\\python313\\site-packages (from python-dateutil>=2.8.2->pandas) (1.17.0)\n",
            "Note: you may need to restart the kernel to use updated packages.\n",
            "^C\n",
            "Note: you may need to restart the kernel to use updated packages.\n",
            "Defaulting to user installation because normal site-packages is not writeable\n",
            "Requirement already satisfied: numpy in c:\\users\\andyl\\appdata\\local\\packages\\pythonsoftwarefoundation.python.3.13_qbz5n2kfra8p0\\localcache\\local-packages\\python313\\site-packages (2.3.0)\n",
            "Note: you may need to restart the kernel to use updated packages.\n"
          ]
        }
      ],
      "source": [
        "#### Paquetes necesarios (verificar siempre con requirements.txt por si falta alguno)\n",
        "#### Se recomienda instalarlos desde el notebook (cambiar esta celda de raw a code)\n",
        "!which python\n",
        "%pip install pandas\n",
        "%pip install matplotlib\n",
        "%pip install numpy    \n",
        "%pip install scipy"
      ]
    },
    {
      "cell_type": "code",
      "execution_count": 2,
      "metadata": {},
      "outputs": [
        {
          "name": "stdout",
          "output_type": "stream",
          "text": [
            "Defaulting to user installation because normal site-packages is not writeable\n",
            "Requirement already satisfied: pandas in c:\\users\\andyl\\appdata\\local\\packages\\pythonsoftwarefoundation.python.3.13_qbz5n2kfra8p0\\localcache\\local-packages\\python313\\site-packages (2.3.0)\n",
            "Requirement already satisfied: numpy>=1.26.0 in c:\\users\\andyl\\appdata\\local\\packages\\pythonsoftwarefoundation.python.3.13_qbz5n2kfra8p0\\localcache\\local-packages\\python313\\site-packages (from pandas) (2.3.0)\n",
            "Requirement already satisfied: python-dateutil>=2.8.2 in c:\\users\\andyl\\appdata\\local\\packages\\pythonsoftwarefoundation.python.3.13_qbz5n2kfra8p0\\localcache\\local-packages\\python313\\site-packages (from pandas) (2.9.0.post0)\n",
            "Requirement already satisfied: pytz>=2020.1 in c:\\users\\andyl\\appdata\\local\\packages\\pythonsoftwarefoundation.python.3.13_qbz5n2kfra8p0\\localcache\\local-packages\\python313\\site-packages (from pandas) (2025.2)\n",
            "Requirement already satisfied: tzdata>=2022.7 in c:\\users\\andyl\\appdata\\local\\packages\\pythonsoftwarefoundation.python.3.13_qbz5n2kfra8p0\\localcache\\local-packages\\python313\\site-packages (from pandas) (2025.2)\n",
            "Requirement already satisfied: six>=1.5 in c:\\users\\andyl\\appdata\\local\\packages\\pythonsoftwarefoundation.python.3.13_qbz5n2kfra8p0\\localcache\\local-packages\\python313\\site-packages (from python-dateutil>=2.8.2->pandas) (1.17.0)\n",
            "Defaulting to user installation because normal site-packages is not writeable\n",
            "Requirement already satisfied: matplotlib in c:\\users\\andyl\\appdata\\local\\packages\\pythonsoftwarefoundation.python.3.13_qbz5n2kfra8p0\\localcache\\local-packages\\python313\\site-packages (3.10.5)\n",
            "Requirement already satisfied: contourpy>=1.0.1 in c:\\users\\andyl\\appdata\\local\\packages\\pythonsoftwarefoundation.python.3.13_qbz5n2kfra8p0\\localcache\\local-packages\\python313\\site-packages (from matplotlib) (1.3.3)\n",
            "Requirement already satisfied: cycler>=0.10 in c:\\users\\andyl\\appdata\\local\\packages\\pythonsoftwarefoundation.python.3.13_qbz5n2kfra8p0\\localcache\\local-packages\\python313\\site-packages (from matplotlib) (0.12.1)\n",
            "Requirement already satisfied: fonttools>=4.22.0 in c:\\users\\andyl\\appdata\\local\\packages\\pythonsoftwarefoundation.python.3.13_qbz5n2kfra8p0\\localcache\\local-packages\\python313\\site-packages (from matplotlib) (4.59.1)\n",
            "Requirement already satisfied: kiwisolver>=1.3.1 in c:\\users\\andyl\\appdata\\local\\packages\\pythonsoftwarefoundation.python.3.13_qbz5n2kfra8p0\\localcache\\local-packages\\python313\\site-packages (from matplotlib) (1.4.9)\n",
            "Requirement already satisfied: numpy>=1.23 in c:\\users\\andyl\\appdata\\local\\packages\\pythonsoftwarefoundation.python.3.13_qbz5n2kfra8p0\\localcache\\local-packages\\python313\\site-packages (from matplotlib) (2.3.0)\n",
            "Requirement already satisfied: packaging>=20.0 in c:\\users\\andyl\\appdata\\local\\packages\\pythonsoftwarefoundation.python.3.13_qbz5n2kfra8p0\\localcache\\local-packages\\python313\\site-packages (from matplotlib) (25.0)\n",
            "Requirement already satisfied: pillow>=8 in c:\\users\\andyl\\appdata\\local\\packages\\pythonsoftwarefoundation.python.3.13_qbz5n2kfra8p0\\localcache\\local-packages\\python313\\site-packages (from matplotlib) (11.3.0)\n",
            "Requirement already satisfied: pyparsing>=2.3.1 in c:\\users\\andyl\\appdata\\local\\packages\\pythonsoftwarefoundation.python.3.13_qbz5n2kfra8p0\\localcache\\local-packages\\python313\\site-packages (from matplotlib) (3.2.3)\n",
            "Requirement already satisfied: python-dateutil>=2.7 in c:\\users\\andyl\\appdata\\local\\packages\\pythonsoftwarefoundation.python.3.13_qbz5n2kfra8p0\\localcache\\local-packages\\python313\\site-packages (from matplotlib) (2.9.0.post0)\n",
            "Requirement already satisfied: six>=1.5 in c:\\users\\andyl\\appdata\\local\\packages\\pythonsoftwarefoundation.python.3.13_qbz5n2kfra8p0\\localcache\\local-packages\\python313\\site-packages (from python-dateutil>=2.7->matplotlib) (1.17.0)\n",
            "Defaulting to user installation because normal site-packages is not writeable\n",
            "Requirement already satisfied: numpy in c:\\users\\andyl\\appdata\\local\\packages\\pythonsoftwarefoundation.python.3.13_qbz5n2kfra8p0\\localcache\\local-packages\\python313\\site-packages (2.3.0)\n",
            "Defaulting to user installation because normal site-packages is not writeable\n",
            "Collecting scipy\n",
            "  Using cached scipy-1.16.1-cp313-cp313-win_amd64.whl.metadata (60 kB)\n",
            "Requirement already satisfied: numpy<2.6,>=1.25.2 in c:\\users\\andyl\\appdata\\local\\packages\\pythonsoftwarefoundation.python.3.13_qbz5n2kfra8p0\\localcache\\local-packages\\python313\\site-packages (from scipy) (2.3.0)\n",
            "Downloading scipy-1.16.1-cp313-cp313-win_amd64.whl (38.5 MB)\n",
            "   ---------------------------------------- 0.0/38.5 MB ? eta -:--:--\n",
            "   ---------------------------------------- 0.0/38.5 MB ? eta -:--:--\n",
            "   ---------------------------------------- 0.0/38.5 MB ? eta -:--:--\n",
            "    --------------------------------------- 0.5/38.5 MB 1.7 MB/s eta 0:00:23\n",
            "    --------------------------------------- 0.8/38.5 MB 1.7 MB/s eta 0:00:23\n",
            "   - -------------------------------------- 1.8/38.5 MB 2.8 MB/s eta 0:00:14\n",
            "   -- ------------------------------------- 2.6/38.5 MB 3.1 MB/s eta 0:00:12\n",
            "   --- ------------------------------------ 3.1/38.5 MB 3.0 MB/s eta 0:00:12\n",
            "   --- ------------------------------------ 3.4/38.5 MB 2.7 MB/s eta 0:00:13\n",
            "   ---- ----------------------------------- 3.9/38.5 MB 2.7 MB/s eta 0:00:13\n",
            "   ---- ----------------------------------- 4.7/38.5 MB 2.7 MB/s eta 0:00:13\n",
            "   ---- ----------------------------------- 4.7/38.5 MB 2.7 MB/s eta 0:00:13\n",
            "   ----- ---------------------------------- 5.8/38.5 MB 2.7 MB/s eta 0:00:13\n",
            "   ------ --------------------------------- 6.6/38.5 MB 2.8 MB/s eta 0:00:12\n",
            "   ------- -------------------------------- 7.6/38.5 MB 3.0 MB/s eta 0:00:11\n",
            "   -------- ------------------------------- 8.7/38.5 MB 3.1 MB/s eta 0:00:10\n",
            "   ---------- ----------------------------- 10.0/38.5 MB 3.4 MB/s eta 0:00:09\n",
            "   ----------- ---------------------------- 10.7/38.5 MB 3.4 MB/s eta 0:00:09\n",
            "   ----------- ---------------------------- 11.5/38.5 MB 3.4 MB/s eta 0:00:08\n",
            "   ------------ --------------------------- 11.8/38.5 MB 3.3 MB/s eta 0:00:09\n",
            "   ------------ --------------------------- 12.3/38.5 MB 3.3 MB/s eta 0:00:08\n",
            "   ------------- -------------------------- 13.1/38.5 MB 3.3 MB/s eta 0:00:08\n",
            "   -------------- ------------------------- 13.9/38.5 MB 3.3 MB/s eta 0:00:08\n",
            "   --------------- ------------------------ 14.7/38.5 MB 3.3 MB/s eta 0:00:08\n",
            "   --------------- ------------------------ 15.2/38.5 MB 3.4 MB/s eta 0:00:07\n",
            "   ---------------- ----------------------- 15.5/38.5 MB 3.2 MB/s eta 0:00:08\n",
            "   ---------------- ----------------------- 16.0/38.5 MB 3.2 MB/s eta 0:00:08\n",
            "   ----------------- ---------------------- 16.8/38.5 MB 3.2 MB/s eta 0:00:07\n",
            "   ------------------ --------------------- 17.8/38.5 MB 3.3 MB/s eta 0:00:07\n",
            "   ------------------- -------------------- 18.6/38.5 MB 3.3 MB/s eta 0:00:07\n",
            "   ------------------- -------------------- 19.1/38.5 MB 3.3 MB/s eta 0:00:06\n",
            "   -------------------- ------------------- 19.9/38.5 MB 3.3 MB/s eta 0:00:06\n",
            "   --------------------- ------------------ 21.0/38.5 MB 3.3 MB/s eta 0:00:06\n",
            "   ---------------------- ----------------- 21.5/38.5 MB 3.3 MB/s eta 0:00:06\n",
            "   ----------------------- ---------------- 22.3/38.5 MB 3.3 MB/s eta 0:00:05\n",
            "   ----------------------- ---------------- 22.8/38.5 MB 3.3 MB/s eta 0:00:05\n",
            "   ------------------------ --------------- 23.9/38.5 MB 3.3 MB/s eta 0:00:05\n",
            "   ------------------------- -------------- 24.6/38.5 MB 3.4 MB/s eta 0:00:05\n",
            "   -------------------------- ------------- 25.4/38.5 MB 3.4 MB/s eta 0:00:04\n",
            "   -------------------------- ------------- 26.0/38.5 MB 3.4 MB/s eta 0:00:04\n",
            "   --------------------------- ------------ 26.5/38.5 MB 3.3 MB/s eta 0:00:04\n",
            "   ---------------------------- ----------- 27.3/38.5 MB 3.3 MB/s eta 0:00:04\n",
            "   ---------------------------- ----------- 27.8/38.5 MB 3.3 MB/s eta 0:00:04\n",
            "   ----------------------------- ---------- 28.3/38.5 MB 3.3 MB/s eta 0:00:04\n",
            "   ------------------------------ --------- 29.1/38.5 MB 3.3 MB/s eta 0:00:03\n",
            "   ------------------------------ --------- 29.6/38.5 MB 3.3 MB/s eta 0:00:03\n",
            "   ------------------------------- -------- 30.7/38.5 MB 3.3 MB/s eta 0:00:03\n",
            "   -------------------------------- ------- 30.9/38.5 MB 3.3 MB/s eta 0:00:03\n",
            "   -------------------------------- ------- 31.7/38.5 MB 3.3 MB/s eta 0:00:03\n",
            "   --------------------------------- ------ 32.2/38.5 MB 3.3 MB/s eta 0:00:02\n",
            "   ---------------------------------- ----- 32.8/38.5 MB 3.3 MB/s eta 0:00:02\n",
            "   ---------------------------------- ----- 33.6/38.5 MB 3.3 MB/s eta 0:00:02\n",
            "   ----------------------------------- ---- 33.8/38.5 MB 3.2 MB/s eta 0:00:02\n",
            "   ----------------------------------- ---- 34.1/38.5 MB 3.2 MB/s eta 0:00:02\n",
            "   ----------------------------------- ---- 34.6/38.5 MB 3.2 MB/s eta 0:00:02\n",
            "   ------------------------------------ --- 35.1/38.5 MB 3.2 MB/s eta 0:00:02\n",
            "   ------------------------------------ --- 35.4/38.5 MB 3.1 MB/s eta 0:00:01\n",
            "   ------------------------------------- -- 35.9/38.5 MB 3.1 MB/s eta 0:00:01\n",
            "   ------------------------------------- -- 36.2/38.5 MB 3.1 MB/s eta 0:00:01\n",
            "   -------------------------------------- - 36.7/38.5 MB 3.1 MB/s eta 0:00:01\n",
            "   -------------------------------------- - 37.0/38.5 MB 3.1 MB/s eta 0:00:01\n",
            "   -------------------------------------- - 37.2/38.5 MB 3.0 MB/s eta 0:00:01\n",
            "   ---------------------------------------  37.7/38.5 MB 3.0 MB/s eta 0:00:01\n",
            "   ---------------------------------------  38.0/38.5 MB 3.0 MB/s eta 0:00:01\n",
            "   ---------------------------------------  38.3/38.5 MB 3.0 MB/s eta 0:00:01\n",
            "   ---------------------------------------  38.3/38.5 MB 3.0 MB/s eta 0:00:01\n",
            "   ---------------------------------------- 38.5/38.5 MB 2.9 MB/s  0:00:13\n",
            "Installing collected packages: scipy\n",
            "Successfully installed scipy-1.16.1\n"
          ]
        }
      ],
      "source": [
        "\n",
        "!pip install pandas\n",
        "!pip install matplotlib\n",
        "!pip install numpy\n",
        "!pip install scipy"
      ]
    },
    {
      "cell_type": "code",
      "execution_count": null,
      "metadata": {},
      "outputs": [],
      "source": []
    }
  ],
  "metadata": {
    "colab": {
      "authorship_tag": "ABX9TyM7LCCQ/tWzhRMS/EdtLDYv",
      "include_colab_link": true,
      "provenance": []
    },
    "kernelspec": {
      "display_name": "Python 3",
      "name": "python3"
    },
    "language_info": {
      "codemirror_mode": {
        "name": "ipython",
        "version": 3
      },
      "file_extension": ".py",
      "mimetype": "text/x-python",
      "name": "python",
      "nbconvert_exporter": "python",
      "pygments_lexer": "ipython3",
      "version": "3.13.7"
    }
  },
  "nbformat": 4,
  "nbformat_minor": 0
}
